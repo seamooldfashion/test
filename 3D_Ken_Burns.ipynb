{
  "nbformat": 4,
  "nbformat_minor": 0,
  "metadata": {
    "colab": {
      "name": "3D-Ken-Burns",
      "provenance": [],
      "collapsed_sections": [],
      "include_colab_link": true
    },
    "kernelspec": {
      "name": "python3",
      "display_name": "Python 3"
    },
    "accelerator": "GPU"
  },
  "cells": [
    {
      "cell_type": "markdown",
      "metadata": {
        "id": "view-in-github",
        "colab_type": "text"
      },
      "source": [
        "<a href=\"https://colab.research.google.com/github/cedro3/3d-ken-burns/blob/master/3D_Ken_Burns.ipynb\" target=\"_parent\"><img src=\"https://colab.research.google.com/assets/colab-badge.svg\" alt=\"Open In Colab\"/></a>"
      ]
    },
    {
      "cell_type": "markdown",
      "metadata": {
        "id": "6gg3GqRqm8fc"
      },
      "source": [
        "# ライブラリーのインストール"
      ]
    },
    {
      "cell_type": "code",
      "metadata": {
        "id": "vtd0th84B0Zg"
      },
      "source": [
        "!pip install chainer\n",
        "!pip install moviepy\n",
        "!pip install gevent"
      ],
      "execution_count": null,
      "outputs": []
    },
    {
      "cell_type": "markdown",
      "metadata": {
        "id": "YXK9VNecNQEF"
      },
      "source": [
        "# Github からコードをコピー"
      ]
    },
    {
      "cell_type": "code",
      "metadata": {
        "id": "ZbYRw_GlCL5w"
      },
      "source": [
        "!git clone https://github.com/cedro3/3d-ken-burns.git"
      ],
      "execution_count": null,
      "outputs": []
    },
    {
      "cell_type": "code",
      "metadata": {
        "id": "xXFs3ii5Co82"
      },
      "source": [
        "cd /content/3d-ken-burns"
      ],
      "execution_count": null,
      "outputs": []
    },
    {
      "cell_type": "code",
      "metadata": {
        "id": "2z5hGImGGOEj"
      },
      "source": [
        "# 結果を保存するディレクトリを作ります\n",
        "!mkdir results"
      ],
      "execution_count": null,
      "outputs": []
    },
    {
      "cell_type": "code",
      "metadata": {
        "id": "w5PBRLqUGYbk"
      },
      "source": [
        "import chainer\n",
        "import os\n",
        "chainer.print_runtime_info()\n",
        "os.environ['CUDA_HOME'] = \"/usr/local/cuda\""
      ],
      "execution_count": null,
      "outputs": []
    },
    {
      "cell_type": "markdown",
      "metadata": {
        "id": "06tpWil4A6Ck"
      },
      "source": [
        "#学習済みモデルをダウンロード"
      ]
    },
    {
      "cell_type": "code",
      "metadata": {
        "id": "jy-x7Cm7AymM"
      },
      "source": [
        "!wget -O ./models/disparity-estimation.pytorch http://content.sniklaus.com/kenburns/network-disparity.pytorch\n",
        "!wget -O ./models/disparity-refinement.pytorch http://content.sniklaus.com/kenburns/network-refinement.pytorch\n",
        "!wget -O ./models/pointcloud-inpainting.pytorch http://content.sniklaus.com/kenburns/network-inpainting.pytorch"
      ],
      "execution_count": null,
      "outputs": []
    },
    {
      "cell_type": "markdown",
      "metadata": {
        "id": "gYYAij77DWnG"
      },
      "source": [
        "# imageファイルを追加\n",
        "自分で新たな画像に3D Ken Burns Effect　を掛けたい場合は、ここでimageファイルをアップロードします。サンプル画像でやる場合は、ここをスキップ。"
      ]
    },
    {
      "cell_type": "code",
      "metadata": {
        "id": "oDK3eH8aDUnw"
      },
      "source": [
        "from google.colab import files\n",
        "uploaded = files.upload()\n",
        "for filename in uploaded.keys():\n",
        "  !mv ./$filename ./images/$filename"
      ],
      "execution_count": null,
      "outputs": []
    },
    {
      "cell_type": "markdown",
      "metadata": {
        "id": "Daw9Ptv5P_EG"
      },
      "source": [
        "#3D Ken Burns Effect\n",
        "imagesフォルダーにある画像全てに3D Ken Burns Effect を掛けます。"
      ]
    },
    {
      "cell_type": "code",
      "metadata": {
        "id": "H_6mgeGBDdVD"
      },
      "source": [
        "!for image in ./images/*; do python autozoom.py --in $image --out ./results/$(basename $image | cut -f1 -d '.').mp4; done"
      ],
      "execution_count": null,
      "outputs": []
    },
    {
      "cell_type": "markdown",
      "metadata": {
        "id": "wOyjsg55NeI0"
      },
      "source": [
        "# 動画のダウンロード\n",
        "resultフォルダーにある動画を全て自動でダウンロードします。手動でダウンロードする場合は、スキップして下さい。"
      ]
    },
    {
      "cell_type": "code",
      "metadata": {
        "id": "7vYU0HNyP2Yu"
      },
      "source": [
        "from google.colab import files\n",
        "for filename in os.listdir(\"./results\"):\n",
        "  extension = os.path.splitext(filename)[-1].lower()\n",
        "  if extension == \".mp4\":\n",
        "    files.download(\"./results/\" + filename)\n"
      ],
      "execution_count": null,
      "outputs": []
    }
  ]
}